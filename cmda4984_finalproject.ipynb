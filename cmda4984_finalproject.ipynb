{
 "cells": [
  {
   "cell_type": "markdown",
   "id": "ac23811e",
   "metadata": {},
   "source": [
    "# Data Science for Quantitative Finance (CMDA 4984) Final Project\n",
    "#### Pranav Thiriveedhi\n",
    "#### Monte Carlo Simulation to Determine Equity Value of a Company"
   ]
  },
  {
   "cell_type": "markdown",
   "id": "a7463eff",
   "metadata": {},
   "source": [
    "Importing necessary libraries"
   ]
  },
  {
   "cell_type": "code",
   "execution_count": 1,
   "id": "448f9f52",
   "metadata": {},
   "outputs": [],
   "source": [
    "import numpy as np\n",
    "import pandas as pd\n",
    "import matplotlib.pyplot as plt\n",
    "\n",
    "from yahoo_fin import stock_info as si\n",
    "import pandas_datareader as dr"
   ]
  },
  {
   "cell_type": "markdown",
   "id": "1c067b61",
   "metadata": {},
   "source": [
    "Input variables for Microsoft. (MSFT)"
   ]
  },
  {
   "cell_type": "code",
   "execution_count": 2,
   "id": "9e0cc6f9",
   "metadata": {},
   "outputs": [],
   "source": [
    "company_ticker = 'MSFT'\n",
    "market_risk_premium = 0.042\n",
    "debt_return = 0.00519\n",
    "long_term_growth = 0.014\n",
    "tax_rate = 0.148\n",
    "iterations = 1000\n"
   ]
  },
  {
   "cell_type": "markdown",
   "id": "10ad088f",
   "metadata": {},
   "source": [
    "Financial Information from Yahoo! Finance"
   ]
  },
  {
   "cell_type": "code",
   "execution_count": 3,
   "id": "34d2ed25",
   "metadata": {},
   "outputs": [],
   "source": [
    "income_statement_df = si.get_income_statement(company_ticker)\n",
    "pars_df = income_statement_df.loc[['totalRevenue', 'ebit']]\n",
    "input_df = pars_df.iloc[:, ::-1]"
   ]
  },
  {
   "cell_type": "code",
   "execution_count": 4,
   "id": "a1a27aba",
   "metadata": {},
   "outputs": [
    {
     "data": {
      "text/html": [
       "<div>\n",
       "<style scoped>\n",
       "    .dataframe tbody tr th:only-of-type {\n",
       "        vertical-align: middle;\n",
       "    }\n",
       "\n",
       "    .dataframe tbody tr th {\n",
       "        vertical-align: top;\n",
       "    }\n",
       "\n",
       "    .dataframe thead th {\n",
       "        text-align: right;\n",
       "    }\n",
       "</style>\n",
       "<table border=\"1\" class=\"dataframe\">\n",
       "  <thead>\n",
       "    <tr style=\"text-align: right;\">\n",
       "      <th>endDate</th>\n",
       "      <th>2018-06-30</th>\n",
       "      <th>2019-06-30</th>\n",
       "      <th>2020-06-30</th>\n",
       "      <th>2021-06-30</th>\n",
       "    </tr>\n",
       "    <tr>\n",
       "      <th>Breakdown</th>\n",
       "      <th></th>\n",
       "      <th></th>\n",
       "      <th></th>\n",
       "      <th></th>\n",
       "    </tr>\n",
       "  </thead>\n",
       "  <tbody>\n",
       "    <tr>\n",
       "      <th>totalRevenue</th>\n",
       "      <td>110360000000</td>\n",
       "      <td>125843000000</td>\n",
       "      <td>143015000000</td>\n",
       "      <td>168088000000</td>\n",
       "    </tr>\n",
       "    <tr>\n",
       "      <th>ebit</th>\n",
       "      <td>35058000000</td>\n",
       "      <td>42959000000</td>\n",
       "      <td>53145000000</td>\n",
       "      <td>69916000000</td>\n",
       "    </tr>\n",
       "  </tbody>\n",
       "</table>\n",
       "</div>"
      ],
      "text/plain": [
       "endDate         2018-06-30    2019-06-30    2020-06-30    2021-06-30\n",
       "Breakdown                                                           \n",
       "totalRevenue  110360000000  125843000000  143015000000  168088000000\n",
       "ebit           35058000000   42959000000   53145000000   69916000000"
      ]
     },
     "execution_count": 4,
     "metadata": {},
     "output_type": "execute_result"
    }
   ],
   "source": [
    "input_df"
   ]
  },
  {
   "cell_type": "markdown",
   "id": "1f0c1a3d",
   "metadata": {},
   "source": [
    "Calculate average revenue CAGR & EBIT margin"
   ]
  },
  {
   "cell_type": "code",
   "execution_count": 5,
   "id": "41fd8aa9",
   "metadata": {},
   "outputs": [],
   "source": [
    "def get_cagr(past_revs):\n",
    "    CAGR = (past_revs.iloc[0,3]/past_revs.iloc[0,0])**(1/4)-1\n",
    "    return(CAGR)\n",
    "\n",
    "def get_average_margin(past_ebit):\n",
    "    margin = 0\n",
    "    margin_lst = []\n",
    "    \n",
    "    for i in range(len(past_ebit.columns)):\n",
    "        margin = past_ebit.iloc[1,i]/past_ebit.iloc[0,i]\n",
    "    \n",
    "    margin_lst.append(margin)\n",
    "    return(sum(margin_lst)/len(margin_lst))\n",
    "\n",
    "mean_cagr = get_cagr(input_df)\n",
    "mean_margin = get_average_margin(input_df)"
   ]
  },
  {
   "cell_type": "code",
   "execution_count": 6,
   "id": "e28ab1b6",
   "metadata": {},
   "outputs": [
    {
     "name": "stdout",
     "output_type": "stream",
     "text": [
      "Avg Revenue CAGR:  0.11091608373093576\n",
      "Avg Revenue EBIT Margin:  0.415948788729713\n"
     ]
    }
   ],
   "source": [
    "print(\"Avg Revenue CAGR: \", mean_cagr)\n",
    "print(\"Avg Revenue EBIT Margin: \", mean_margin)"
   ]
  },
  {
   "cell_type": "markdown",
   "id": "a4b58179",
   "metadata": {},
   "source": [
    "Create forecast function for random variables"
   ]
  },
  {
   "cell_type": "code",
   "execution_count": 7,
   "id": "b2e2be2d",
   "metadata": {},
   "outputs": [],
   "source": [
    "def get_forecast(input_df, cagr, margin, long_term_growth):\n",
    "    forecast_lst = []\n",
    "    for i in range(6):\n",
    "        if i < 5:\n",
    "            forecast_lst.append(input_df.iloc[0,3]*(1+cagr)**(i+1)*margin)\n",
    "        else:\n",
    "            forecast_lst.append(input_df.iloc[0,3]*(1+cagr)**(i)*(1+long_term_growth)*margin)\n",
    "    return forecast_lst"
   ]
  },
  {
   "cell_type": "markdown",
   "id": "e4522a39",
   "metadata": {},
   "source": [
    "Get WACC and net debt"
   ]
  },
  {
   "cell_type": "code",
   "execution_count": 8,
   "id": "e2209996",
   "metadata": {},
   "outputs": [],
   "source": [
    "def get_wacc(company_ticker, market_risk_premium, debt_return, tax_rate):\n",
    "    risk_free_rate_df = dr.DataReader('^TNX', 'yahoo') \n",
    "    risk_free_rate = (risk_free_rate_df.iloc[len(risk_free_rate_df)-1,5])/100\n",
    "    equity_beta = si.get_quote_table('msft')['Beta (5Y Monthly)']\n",
    "    equity_return = risk_free_rate+equity_beta*(market_risk_premium)\n",
    "    balance_sheet_df = si.get_balance_sheet(company_ticker)\n",
    "    short_term_debt_series = balance_sheet_df.loc['shortLongTermDebt']\n",
    "    long_term_debt_series = balance_sheet_df.loc['longTermDebt']\n",
    "    cash_series = balance_sheet_df.loc['cash']\n",
    "    net_debt = short_term_debt_series.iloc[0] +  + long_term_debt_series.iloc[0] - cash_series.iloc[0]\n",
    "    market_cap_str = si.get_quote_table(company_ticker)['Market Cap']\n",
    "    market_cap_lst = market_cap_str.split('.')\n",
    "\n",
    "    if market_cap_str[len(market_cap_str)-1] == 'T':\n",
    "        market_cap_length = len(market_cap_lst[1])-1\n",
    "        market_cap_lst[1] = market_cap_lst[1].replace('T',(12-market_cap_length)*'0')\n",
    "        market_cap = int(''.join(market_cap_lst))\n",
    "\n",
    "    if market_cap_str[len(market_cap_str)-1] == 'B':\n",
    "        market_cap_length = len(market_cap_lst[1])-1\n",
    "        market_cap_lst[1] = market_cap_lst[1].replace('B',(9-market_cap_length)*'0')\n",
    "        market_cap = int(''.join(market_cap_lst))\n",
    "\n",
    "    company_value = market_cap + net_debt\n",
    "    WACC = market_cap/company_value * equity_return + net_debt/company_value * debt_return * (1-tax_rate)\n",
    "    return WACC"
   ]
  },
  {
   "cell_type": "code",
   "execution_count": 9,
   "id": "a226af32",
   "metadata": {},
   "outputs": [],
   "source": [
    "def get_net_debt():\n",
    "    \n",
    "    balance_sheet_df = si.get_balance_sheet(company_ticker)\n",
    "    short_term_debt_series = balance_sheet_df.loc['shortLongTermDebt']\n",
    "    long_term_debt_series = balance_sheet_df.loc['longTermDebt']\n",
    "    cash_series = balance_sheet_df.loc['cash']\n",
    "\n",
    "    return short_term_debt_series.iloc[0] + long_term_debt_series.iloc[0] - cash_series.iloc[0]\n",
    "    \n",
    "mean_wacc = get_wacc(company_ticker, market_risk_premium, debt_return, tax_rate)\n",
    "\n",
    "net_debt = get_net_debt()"
   ]
  },
  {
   "cell_type": "markdown",
   "id": "a62403b6",
   "metadata": {},
   "source": [
    "Discount EBIT figures to arrive at the PV of the firm's cash flows"
   ]
  },
  {
   "cell_type": "code",
   "execution_count": 10,
   "id": "b1225649",
   "metadata": {},
   "outputs": [],
   "source": [
    "def discount(forecast, discount_rate, long_term_rate):\n",
    "    discount_lst = []\n",
    "    for x,i in enumerate(forecast):\n",
    "        if x < 5:\n",
    "            discount_lst.append(i/(1+discount_rate)**(x+1))\n",
    "        else:\n",
    "            discount_lst.append(i/(discount_rate-long_term_rate)*(1/(1+discount_rate)**5))\n",
    "    return sum(discount_lst)"
   ]
  },
  {
   "cell_type": "markdown",
   "id": "2f270b3c",
   "metadata": {},
   "source": [
    "Run simulation and plot distribution of model forecasts"
   ]
  },
  {
   "cell_type": "code",
   "execution_count": 11,
   "id": "b6463edc",
   "metadata": {},
   "outputs": [
    {
     "data": {
      "image/png": "[encoded data removed]",
      "text/plain": [
       "<Figure size 432x288 with 1 Axes>"
      ]
     },
     "metadata": {
      "needs_background": "light"
     },
     "output_type": "display_data"
    }
   ],
   "source": [
    "hist_lst = []\n",
    "\n",
    "for i in range(iterations):\n",
    "    cagr = np.random.normal(mean_cagr, 0.01)\n",
    "    margin = np.random.normal(mean_margin, 0.005)\n",
    "    long_term_rate = np.random.normal(long_term_growth, 0.001)\n",
    "    discount_rate = np.random.normal(mean_wacc, 0.001)\n",
    "    forecast = get_forecast(input_df, cagr, margin, long_term_rate)\n",
    "    hist_lst.append(discount(forecast, discount_rate, long_term_rate)-net_debt)\n",
    "\n",
    "    \n",
    "hist_array = np.array(hist_lst)\n",
    "plt.hist(hist_array, bins=50, align='mid', color = 'mediumturquoise', edgecolor='black')\n",
    "plt.title('Sample Distribution ' + company_ticker)\n",
    "plt.xlabel('Equity Value in $')\n",
    "plt.ylabel('Frequency')\n",
    "\n",
    "plt.show()"
   ]
  },
  {
   "cell_type": "code",
   "execution_count": 12,
   "id": "a3e16b85",
   "metadata": {},
   "outputs": [
    {
     "name": "stdout",
     "output_type": "stream",
     "text": [
      "2055162246276.1755\n",
      "2068399976013.527\n"
     ]
    }
   ],
   "source": [
    "mean = hist_array.mean()\n",
    "standard_error = hist_array.std()/(iterations**(1/2))\n",
    "\n",
    "lower_bound = mean-1.96*standard_error\n",
    "upper_bound = mean+1.96*standard_error \n",
    "\n",
    "print(lower_bound)\n",
    "print(upper_bound)"
   ]
  },
  {
   "cell_type": "code",
   "execution_count": 18,
   "id": "a11498b4",
   "metadata": {},
   "outputs": [
    {
     "name": "stdout",
     "output_type": "stream",
     "text": [
      "MSFT\n",
      "Avg Revenue CAGR:  0.11091608373093576\n",
      "Avg Revenue EBIT Margin:  0.415948788729713\n",
      "Equity Value:  ['$2,055,162,246,276.18', '$2,068,399,976,013.53']\n"
     ]
    }
   ],
   "source": [
    "print(company_ticker)\n",
    "print(\"Avg Revenue CAGR: \", mean_cagr)\n",
    "print(\"Avg Revenue EBIT Margin: \", mean_margin)\n",
    "formatted_lb = \"${:,.2f}\".format(lower_bound)\n",
    "formatted_ub = \"${:,.2f}\".format(upper_bound)\n",
    "\n",
    "print(\"Equity Value: \", [formatted_lb, formatted_ub])\n"
   ]
  },
  {
   "cell_type": "code",
   "execution_count": null,
   "id": "ebe79af4",
   "metadata": {},
   "outputs": [],
   "source": []
  },
  {
   "cell_type": "code",
   "execution_count": null,
   "id": "95141b4b",
   "metadata": {},
   "outputs": [],
   "source": []
  }
 ],
 "metadata": {
  "kernelspec": {
   "display_name": "Python 3",
   "language": "python",
   "name": "python3"
  },
  "language_info": {
   "codemirror_mode": {
    "name": "ipython",
    "version": 3
   },
   "file_extension": ".py",
   "mimetype": "text/x-python",
   "name": "python",
   "nbconvert_exporter": "python",
   "pygments_lexer": "ipython3",
   "version": "3.8.8"
  }
 },
 "nbformat": 4,
 "nbformat_minor": 5
}
